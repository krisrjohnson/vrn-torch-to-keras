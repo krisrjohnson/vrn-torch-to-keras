{
 "cells": [
  {
   "cell_type": "markdown",
   "metadata": {},
   "source": [
    "# Preparation\n",
    "First download the t7 file from http://cs.nott.ac.uk/~psxasj/download.php?file=vrn-unguided.t7"
   ]
  },
  {
   "cell_type": "markdown",
   "metadata": {},
   "source": [
    "I use https://github.com/bshillingford/python-torchfile to parse the torch file."
   ]
  },
  {
   "cell_type": "code",
   "execution_count": 2,
   "metadata": {
    "collapsed": true
   },
   "outputs": [
    {
     "name": "stdout",
     "output_type": "stream",
     "text": [
      "Collecting torchfile\n",
      "  Downloading https://files.pythonhosted.org/packages/91/af/5b305f86f2d218091af657ddb53f984ecbd9518ca9fe8ef4103a007252c9/torchfile-0.1.0.tar.gz\n",
      "Building wheels for collected packages: torchfile\n",
      "  Building wheel for torchfile (setup.py): started\n",
      "  Building wheel for torchfile (setup.py): finished with status 'done'\n",
      "  Stored in directory: C:\\Users\\ellio\\AppData\\Local\\pip\\Cache\\wheels\\b1\\c3\\d6\\9a1cc8f3a99a0fc1124cae20153f36af59a6e683daca0a0814\n",
      "Successfully built torchfile\n",
      "Installing collected packages: torchfile\n",
      "Successfully installed torchfile-0.1.0\n"
     ]
    }
   ],
   "source": [
    "!pip install torchfile"
   ]
  },
  {
   "cell_type": "code",
   "execution_count": 3,
   "metadata": {},
   "outputs": [
    {
     "name": "stdout",
     "output_type": "stream",
     "text": [
      "The autoreload extension is already loaded. To reload it, use:\n",
      "  %reload_ext autoreload\n"
     ]
    }
   ],
   "source": [
    "%load_ext autoreload\n",
    "%autoreload 2\n",
    "import numpy as np\n",
    "import sys\n",
    "sys.path.insert(0, '../python-torchfile')\n",
    "import torchfile"
   ]
  },
  {
   "cell_type": "code",
   "execution_count": 4,
   "metadata": {},
   "outputs": [
    {
     "ename": "FileNotFoundError",
     "evalue": "[Errno 2] No such file or directory: 'vrn-unguided.t7'",
     "output_type": "error",
     "traceback": [
      "\u001b[1;31m---------------------------------------------------------------------------\u001b[0m",
      "\u001b[1;31mFileNotFoundError\u001b[0m                         Traceback (most recent call last)",
      "\u001b[1;32m<ipython-input-4-0035b75e2772>\u001b[0m in \u001b[0;36m<module>\u001b[1;34m\u001b[0m\n\u001b[1;32m----> 1\u001b[1;33m \u001b[0mt\u001b[0m \u001b[1;33m=\u001b[0m \u001b[0mtorchfile\u001b[0m\u001b[1;33m.\u001b[0m\u001b[0mload\u001b[0m\u001b[1;33m(\u001b[0m\u001b[1;34m'vrn-unguided.t7'\u001b[0m\u001b[1;33m)\u001b[0m\u001b[1;33m\u001b[0m\u001b[1;33m\u001b[0m\u001b[0m\n\u001b[0m",
      "\u001b[1;32m~\\Miniconda3\\envs\\monodepth\\lib\\site-packages\\torchfile.py\u001b[0m in \u001b[0;36mload\u001b[1;34m(filename, **kwargs)\u001b[0m\n\u001b[0;32m    420\u001b[0m     \u001b[0mto\u001b[0m\u001b[0;31m \u001b[0m\u001b[0;31m`\u001b[0m\u001b[0mT7Reader\u001b[0m\u001b[0;31m`\u001b[0m\u001b[1;33m.\u001b[0m\u001b[1;33m\u001b[0m\u001b[1;33m\u001b[0m\u001b[0m\n\u001b[0;32m    421\u001b[0m     \"\"\"\n\u001b[1;32m--> 422\u001b[1;33m     \u001b[1;32mwith\u001b[0m \u001b[0mopen\u001b[0m\u001b[1;33m(\u001b[0m\u001b[0mfilename\u001b[0m\u001b[1;33m,\u001b[0m \u001b[1;34m'rb'\u001b[0m\u001b[1;33m)\u001b[0m \u001b[1;32mas\u001b[0m \u001b[0mf\u001b[0m\u001b[1;33m:\u001b[0m\u001b[1;33m\u001b[0m\u001b[1;33m\u001b[0m\u001b[0m\n\u001b[0m\u001b[0;32m    423\u001b[0m         \u001b[0mreader\u001b[0m \u001b[1;33m=\u001b[0m \u001b[0mT7Reader\u001b[0m\u001b[1;33m(\u001b[0m\u001b[0mf\u001b[0m\u001b[1;33m,\u001b[0m \u001b[1;33m**\u001b[0m\u001b[0mkwargs\u001b[0m\u001b[1;33m)\u001b[0m\u001b[1;33m\u001b[0m\u001b[1;33m\u001b[0m\u001b[0m\n\u001b[0;32m    424\u001b[0m         \u001b[1;32mreturn\u001b[0m \u001b[0mreader\u001b[0m\u001b[1;33m.\u001b[0m\u001b[0mread_obj\u001b[0m\u001b[1;33m(\u001b[0m\u001b[1;33m)\u001b[0m\u001b[1;33m\u001b[0m\u001b[1;33m\u001b[0m\u001b[0m\n",
      "\u001b[1;31mFileNotFoundError\u001b[0m: [Errno 2] No such file or directory: 'vrn-unguided.t7'"
     ]
    }
   ],
   "source": [
    "t = torchfile.load('vrn-unguided.t7')"
   ]
  },
  {
   "cell_type": "markdown",
   "metadata": {},
   "source": [
    "## Exploring the torch file"
   ]
  },
  {
   "cell_type": "code",
   "execution_count": 5,
   "metadata": {
    "scrolled": true
   },
   "outputs": [],
   "source": [
    "ln = 0\n",
    "list_file = open(\"list.txt\", \"w\")\n",
    "\n",
    "def lst(tobj, indent, f):\n",
    "    global ln\n",
    "    for module in tobj['modules']:\n",
    "        f.write(\"{}\\t{}{}\\t{}\\n\".format(ln,\n",
    "                                        \"    \" * indent,\n",
    "                                        module._typename,\n",
    "                                        module['weight'].shape \n",
    "                                            if 'weight' in module.__dir__() \n",
    "                                            else ''))\n",
    "        ln += 1\n",
    "        if 'modules' in module.__dir__():\n",
    "            lst(module, indent + 1, f)\n",
    "\n",
    "lst(t, 0, list_file)\n",
    "list_file.close()"
   ]
  },
  {
   "cell_type": "markdown",
   "metadata": {},
   "source": [
    "Click [list.txt](./list.txt) to see the list."
   ]
  },
  {
   "cell_type": "markdown",
   "metadata": {},
   "source": [
    "## Compare torch layer to keras layer\n",
    "I want to be able to reference each layer by its line number."
   ]
  },
  {
   "cell_type": "code",
   "execution_count": 8,
   "metadata": {},
   "outputs": [],
   "source": [
    "def getr(tobj, ln):\n",
    "    for module in tobj['modules']:\n",
    "        if ln == 0:\n",
    "            return module, 0\n",
    "        ln -= 1\n",
    "        if 'modules' in module.__dir__():\n",
    "            got, ln = getr(module, ln)\n",
    "            if got is not None:\n",
    "                return got, 0\n",
    "\n",
    "    return None, ln\n",
    "\n",
    "def get(tobj, ln):\n",
    "    tout, _ = getr(tobj, ln)\n",
    "    return tout\n",
    "\n",
    "def info(module):\n",
    "    print(\"{}\".format(module._typename))\n",
    "    for prop in module.__dir__():\n",
    "        value = module[prop]\n",
    "        if value.__class__ == np.ndarray:\n",
    "            value = value.shape\n",
    "        if value.__class__ == list and len(value) > 0:\n",
    "            value = value[0].shape\n",
    "        print(\"{}\\t{}\".format(prop, value))"
   ]
  },
  {
   "cell_type": "markdown",
   "metadata": {},
   "source": [
    "### First Conv layer"
   ]
  },
  {
   "cell_type": "code",
   "execution_count": 12,
   "metadata": {},
   "outputs": [
    {
     "name": "stdout",
     "output_type": "stream",
     "text": [
      "nn.SpatialConvolution\n",
      "weight\t(64, 3, 7, 7)\n",
      "nOutputPlane\t64\n",
      "gradWeight\t(64, 3, 7, 7)\n",
      "bias\t(64,)\n",
      "nInputPlane\t3\n",
      "padH\t3\n",
      "padW\t3\n",
      "fgradInput\t(0,)\n",
      "_type\ttorch.FloatTensor\n",
      "finput\t(1, 147, 9216)\n",
      "fmode\t1\n",
      "kH\t7\n",
      "bwmode\t1\n",
      "train\tTrue\n",
      "kW\t7\n",
      "groups\t1\n",
      "gradBias\t(64,)\n",
      "dW\t2\n",
      "dH\t2\n",
      "gradInput\t(0,)\n",
      "bdmode\t1\n",
      "output\t(1, 64, 96, 96)\n",
      "torch_typename\tNone\n"
     ]
    }
   ],
   "source": [
    "info(get(t, 0))"
   ]
  },
  {
   "cell_type": "markdown",
   "metadata": {},
   "source": [
    "### First BatchNorm layer"
   ]
  },
  {
   "cell_type": "code",
   "execution_count": 13,
   "metadata": {},
   "outputs": [
    {
     "name": "stdout",
     "output_type": "stream",
     "text": [
      "nn.SpatialBatchNormalization\n",
      "save_mean\t(64,)\n",
      "_type\ttorch.FloatTensor\n",
      "running_mean\t(64,)\n",
      "weight\t(64,)\n",
      "train\tTrue\n",
      "affine\tTrue\n",
      "gradInput\t(0,)\n",
      "eps\t1e-05\n",
      "running_var\t(64,)\n",
      "gradWeight\t(64,)\n",
      "bias\t(64,)\n",
      "gradBias\t(64,)\n",
      "output\t(1, 64, 96, 96)\n",
      "save_std\t(64,)\n",
      "momentum\t0.1\n",
      "torch_typename\tNone\n"
     ]
    }
   ],
   "source": [
    "info(get(t, 1))"
   ]
  },
  {
   "cell_type": "markdown",
   "metadata": {},
   "source": [
    "### Note\n",
    "As I understand it, in Keras, when you run model.predict(), the Batch Norm layers use the saved running_mean and running_var values to normalize the data.<br>\n",
    "This is how I first tried to run this model, but it didn't work!<br>\n",
    "Finally, after a good amount of troubleshooting, I realized that the model would work if the Batch Norm layers were in train mode. Meaning, the mean and variance are updated each time.<br>\n",
    "So, I set training=True for each BN layer. I set momentum=1 to keep results consistent."
   ]
  },
  {
   "cell_type": "markdown",
   "metadata": {},
   "source": [
    "# Build model in Keras\n",
    "[vrn_torch_to_keras.py](./vrn_torch_to_keras.py) is the script that parses vrn-unguided.t7, builds the Keras model, copies the weights, and then writes the h5 file."
   ]
  }
 ],
 "metadata": {
  "kernelspec": {
   "display_name": "Python 3",
   "language": "python",
   "name": "python3"
  },
  "language_info": {
   "codemirror_mode": {
    "name": "ipython",
    "version": 3
   },
   "file_extension": ".py",
   "mimetype": "text/x-python",
   "name": "python",
   "nbconvert_exporter": "python",
   "pygments_lexer": "ipython3",
   "version": "3.6.9"
  }
 },
 "nbformat": 4,
 "nbformat_minor": 1
}
