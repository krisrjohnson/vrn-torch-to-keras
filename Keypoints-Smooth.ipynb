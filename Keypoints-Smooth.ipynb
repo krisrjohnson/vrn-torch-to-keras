{
 "cells": [
  {
   "cell_type": "markdown",
   "metadata": {},
   "source": [
    "# Stabilize Landmark Points\n",
    "\n",
    "In this script, I stabilize the facial keypoints for the Tron video.\n",
    "To predict the keypoints, I use code from here: https://github.com/1adrianb/face-alignment\n",
    "\n",
    "My best results came from improving the quality of the keypoints for each frame. To do this, I augmented the input by flipping and rotating the original image.\n",
    "\n",
    "I rotated the image from -48 deg to 48 deg in 12 deg steps giving 9 images.\n",
    "Doing the same on the flipped image gives 18 total input images per frame.\n",
    "\n",
    "Finally, I average all of the results giving the improved keypoint predictions for that frame."
   ]
  },
  {
   "cell_type": "code",
   "execution_count": 30,
   "metadata": {},
   "outputs": [],
   "source": [
    "import sys\n",
    "sys.path.insert(0, '../face-alignment')\n",
    "import face_alignment\n",
    "from skimage import io\n",
    "import cv2\n",
    "import numpy as np\n",
    "import visvis as vv\n",
    "from tqdm import tqdm_notebook as tqdm\n",
    "import math"
   ]
  },
  {
   "cell_type": "code",
   "execution_count": 31,
   "metadata": {},
   "outputs": [],
   "source": [
    "fa = face_alignment.FaceAlignment(face_alignment.LandmarksType._3D, \n",
    "                                  enable_cuda=False, \n",
    "                                  flip_input=False)"
   ]
  },
  {
   "cell_type": "code",
   "execution_count": 3,
   "metadata": {},
   "outputs": [],
   "source": [
    " def load_img(file_name):\n",
    "    img = cv2.imread(file_name)\n",
    "    if \"tron\" in file_name:\n",
    "        img = img[115:640, 763:1287, :]\n",
    "    return img"
   ]
  },
  {
   "cell_type": "code",
   "execution_count": 4,
   "metadata": {},
   "outputs": [],
   "source": [
    "def screenshot(preds, img, output_file_name):\n",
    "    vv.clf()\n",
    "    \n",
    "    im = img\n",
    "    t = vv.imshow(im)\n",
    "    t.interpolate = True\n",
    "\n",
    "    x, y, z = np.array(zip(*(preds[0])))\n",
    "    \n",
    "    z = z + 100\n",
    "    \n",
    "    def plot(x, y, z, mc):\n",
    "        vv.plot(x, y, z, mc=mc, ls=\"\", ms=\".\", mw=3)\n",
    "    \n",
    "    a = 17\n",
    "    plot(x[:a], y[:a], z[:a], mc=(1, 0, 0))\n",
    "    \n",
    "    b = a + 10\n",
    "    plot(x[a:b], y[a:b], z[a:b], mc=(0, 1, 0))\n",
    "    \n",
    "    a, b = b, b + 9\n",
    "    plot(x[a:b], y[a:b], z[a:b], mc=(0, 0, 1))\n",
    "    \n",
    "    a, b = b, b + 6\n",
    "    plot(x[a:b], y[a:b], z[a:b], mc=(1, 1, 0))\n",
    "    \n",
    "    a, b = b, b + 6\n",
    "    plot(x[a:b], y[a:b], z[a:b], mc=(0, 1, 1))\n",
    "    \n",
    "    a, b = b, b + 12\n",
    "    plot(x[a:b], y[a:b], z[a:b], mc=(.5, 1, .2))\n",
    "    \n",
    "    plot(x[b:], y[b:], z[b:], mc=(1, 0, 1))\n",
    "\n",
    "    a = vv.gca()\n",
    "    a.camera.fov = 0 # orthographic\n",
    "    a.camera.azimuth = 0\n",
    "    a.camera.elevation = 90\n",
    "    a.camera.roll = 0\n",
    "\n",
    "    if output_file_name is None:\n",
    "        vv.use().Run()\n",
    "    else:\n",
    "        vv.screenshot(output_file_name, vv.gcf(), sf=2, bg='w')"
   ]
  },
  {
   "cell_type": "markdown",
   "metadata": {},
   "source": [
    "https://stackoverflow.com/questions/6802577/python-rotation-of-3d-vector"
   ]
  },
  {
   "cell_type": "code",
   "execution_count": 5,
   "metadata": {},
   "outputs": [],
   "source": [
    "def rotation_matrix(axis, theta):\n",
    "    \"\"\"\n",
    "    Return the rotation matrix associated with counterclockwise rotation about\n",
    "    the given axis by theta radians.\n",
    "    \"\"\"\n",
    "    axis = np.asarray(axis)\n",
    "    axis = axis/math.sqrt(np.dot(axis, axis))\n",
    "    a = math.cos(theta/2.0)\n",
    "    b, c, d = -axis*math.sin(theta/2.0)\n",
    "    aa, bb, cc, dd = a*a, b*b, c*c, d*d\n",
    "    bc, ad, ac, ab, bd, cd = b*c, a*d, a*c, a*b, b*d, c*d\n",
    "    return np.array([[aa+bb-cc-dd, 2*(bc+ad), 2*(bd-ac)],\n",
    "                     [2*(bc-ad), aa+cc-bb-dd, 2*(cd+ab)],\n",
    "                     [2*(bd+ac), 2*(cd-ab), aa+dd-bb-cc]])"
   ]
  },
  {
   "cell_type": "code",
   "execution_count": 6,
   "metadata": {},
   "outputs": [],
   "source": [
    "def rotate(img, d):\n",
    "    rows,cols, _ = img.shape\n",
    "    M = cv2.getRotationMatrix2D((cols/2,rows/2),d,1)\n",
    "    dst = cv2.warpAffine(img,M,(cols,rows))\n",
    "    return dst\n",
    "\n",
    "def augments(img):\n",
    "    rows,cols, _ = img.shape\n",
    "    for d in range(-48, 49, 12):\n",
    "        theta = d * math.pi / 180.0\n",
    "        rot_img = rotate(img, d)\n",
    "        r = rotation_matrix((0, 0, -1), -theta)\n",
    "        \n",
    "        def reverse(pred):\n",
    "            offset = (cols/2.0, rows/2.0, 0)\n",
    "            pred[0] = np.dot(pred[0] - offset, r.T) + offset\n",
    "            return pred\n",
    "        \n",
    "        yield rot_img, reverse"
   ]
  },
  {
   "cell_type": "markdown",
   "metadata": {},
   "source": [
    "#### Get all the predictions for a frame and then average them together"
   ]
  },
  {
   "cell_type": "code",
   "execution_count": 7,
   "metadata": {},
   "outputs": [],
   "source": [
    "def get_keypoints(file_name, flip=False):\n",
    "    img = load_img(file_name)\n",
    "    if flip:\n",
    "        img = cv2.flip(img, 1)\n",
    "    img_pred = np.zeros((1, 68, 3))\n",
    "    n = 0\n",
    "    for rot_img, reverse in augments(img):\n",
    "        pred = fa.get_landmarks(rot_img)\n",
    "        if pred is not None:\n",
    "            pred = reverse(pred)\n",
    "            img_pred[0] = img_pred[0] + pred[0]\n",
    "            n += 1\n",
    "    img_pred[0] = img_pred[0] / float(n)\n",
    "    if flip:\n",
    "        img_pred[0,:,0] = img.shape[0] - img_pred[0,:,0]\n",
    "    return img_pred"
   ]
  },
  {
   "cell_type": "code",
   "execution_count": null,
   "metadata": {},
   "outputs": [],
   "source": [
    "dir = \"/Users/paul/Downloads/tron_frames\"\n",
    "preds = [get_keypoints(\"{}/frame{:04d}.jpg\".format(dir, i)) \n",
    "         for i in tqdm(range(1, 101))]"
   ]
  },
  {
   "cell_type": "code",
   "execution_count": 9,
   "metadata": {
    "collapsed": true
   },
   "outputs": [
    {
     "data": {
      "application/vnd.jupyter.widget-view+json": {
       "model_id": "0bfffa9efa2148e38fa5248bfcf4e06c",
       "version_major": 2,
       "version_minor": 0
      },
      "text/html": [
       "<p>Failed to display Jupyter Widget of type <code>HBox</code>.</p>\n",
       "<p>\n",
       "  If you're reading this message in Jupyter Notebook or JupyterLab, it may mean\n",
       "  that the widgets JavaScript is still loading. If this message persists, it\n",
       "  likely means that the widgets JavaScript library is either not installed or\n",
       "  not enabled. See the <a href=\"https://ipywidgets.readthedocs.io/en/stable/user_install.html\">Jupyter\n",
       "  Widgets Documentation</a> for setup instructions.\n",
       "</p>\n",
       "<p>\n",
       "  If you're reading this message in another notebook frontend (for example, a static\n",
       "  rendering on GitHub or <a href=\"https://nbviewer.jupyter.org/\">NBViewer</a>),\n",
       "  it may mean that your frontend doesn't currently support widgets.\n",
       "</p>\n"
      ],
      "text/plain": [
       "HBox(children=(IntProgress(value=0, max=88), HTML(value=u'')))"
      ]
     },
     "metadata": {},
     "output_type": "display_data"
    },
    {
     "name": "stdout",
     "output_type": "stream",
     "text": [
      "Warning: No faces were detected.\n",
      "Warning: No faces were detected.\n",
      "Warning: No faces were detected.\n",
      "Warning: No faces were detected.\n",
      "Warning: No faces were detected.\n",
      "Warning: No faces were detected.\n",
      "Warning: No faces were detected.\n",
      "Warning: No faces were detected.\n",
      "Warning: No faces were detected.\n",
      "Warning: No faces were detected.\n",
      "Warning: No faces were detected.\n",
      "Warning: No faces were detected.\n",
      "Warning: No faces were detected.\n",
      "Warning: No faces were detected.\n",
      "Warning: No faces were detected.\n",
      "Warning: No faces were detected.\n",
      "Warning: No faces were detected.\n",
      "Warning: No faces were detected.\n",
      "Warning: No faces were detected.\n",
      "Warning: No faces were detected.\n",
      "Warning: No faces were detected.\n",
      "Warning: No faces were detected.\n",
      "Warning: No faces were detected.\n",
      "Warning: No faces were detected.\n",
      "Warning: No faces were detected.\n",
      "Warning: No faces were detected.\n",
      "Warning: No faces were detected.\n",
      "Warning: No faces were detected.\n",
      "Warning: No faces were detected.\n",
      "Warning: No faces were detected.\n",
      "Warning: No faces were detected.\n",
      "Warning: No faces were detected.\n",
      "Warning: No faces were detected.\n",
      "Warning: No faces were detected.\n",
      "Warning: No faces were detected.\n",
      "Warning: No faces were detected.\n",
      "Warning: No faces were detected.\n",
      "Warning: No faces were detected.\n",
      "Warning: No faces were detected.\n",
      "Warning: No faces were detected.\n",
      "Warning: No faces were detected.\n",
      "Warning: No faces were detected.\n",
      "Warning: No faces were detected.\n",
      "Warning: No faces were detected.\n",
      "Warning: No faces were detected.\n",
      "Warning: No faces were detected.\n",
      "Warning: No faces were detected.\n",
      "Warning: No faces were detected.\n",
      "Warning: No faces were detected.\n",
      "Warning: No faces were detected.\n",
      "Warning: No faces were detected.\n",
      "Warning: No faces were detected.\n",
      "Warning: No faces were detected.\n",
      "Warning: No faces were detected.\n",
      "Warning: No faces were detected.\n",
      "Warning: No faces were detected.\n",
      "Warning: No faces were detected.\n",
      "Warning: No faces were detected.\n",
      "Warning: No faces were detected.\n",
      "Warning: No faces were detected.\n",
      "Warning: No faces were detected.\n",
      "Warning: No faces were detected.\n",
      "Warning: No faces were detected.\n",
      "Warning: No faces were detected.\n",
      "Warning: No faces were detected.\n",
      "Warning: No faces were detected.\n",
      "Warning: No faces were detected.\n",
      "Warning: No faces were detected.\n",
      "Warning: No faces were detected.\n",
      "Warning: No faces were detected.\n",
      "Warning: No faces were detected.\n",
      "Warning: No faces were detected.\n",
      "Warning: No faces were detected.\n",
      "Warning: No faces were detected.\n",
      "Warning: No faces were detected.\n",
      "Warning: No faces were detected.\n",
      "Warning: No faces were detected.\n",
      "Warning: No faces were detected.\n",
      "Warning: No faces were detected.\n",
      "Warning: No faces were detected.\n",
      "Warning: No faces were detected.\n",
      "Warning: No faces were detected.\n",
      "Warning: No faces were detected.\n",
      "Warning: No faces were detected.\n",
      "Warning: No faces were detected.\n",
      "Warning: No faces were detected.\n",
      "Warning: No faces were detected.\n",
      "Warning: No faces were detected.\n",
      "Warning: No faces were detected.\n",
      "Warning: No faces were detected.\n",
      "Warning: No faces were detected.\n",
      "Warning: No faces were detected.\n",
      "Warning: No faces were detected.\n",
      "Warning: No faces were detected.\n",
      "Warning: No faces were detected.\n",
      "Warning: No faces were detected.\n",
      "Warning: No faces were detected.\n",
      "Warning: No faces were detected.\n",
      "Warning: No faces were detected.\n",
      "Warning: No faces were detected.\n",
      "Warning: No faces were detected.\n",
      "Warning: No faces were detected.\n",
      "Warning: No faces were detected.\n",
      "Warning: No faces were detected.\n",
      "Warning: No faces were detected.\n",
      "Warning: No faces were detected.\n",
      "Warning: No faces were detected.\n",
      "Warning: No faces were detected.\n",
      "Warning: No faces were detected.\n",
      "Warning: No faces were detected.\n",
      "Warning: No faces were detected.\n",
      "Warning: No faces were detected.\n",
      "Warning: No faces were detected.\n",
      "Warning: No faces were detected.\n",
      "Warning: No faces were detected.\n",
      "Warning: No faces were detected.\n",
      "Warning: No faces were detected.\n",
      "Warning: No faces were detected.\n",
      "Warning: No faces were detected.\n",
      "Warning: No faces were detected.\n",
      "Warning: No faces were detected.\n",
      "Warning: No faces were detected.\n",
      "Warning: No faces were detected.\n",
      "Warning: No faces were detected.\n",
      "Warning: No faces were detected.\n",
      "Warning: No faces were detected.\n",
      "Warning: No faces were detected.\n",
      "Warning: No faces were detected.\n",
      "Warning: No faces were detected.\n",
      "Warning: No faces were detected.\n",
      "Warning: No faces were detected.\n",
      "Warning: No faces were detected.\n",
      "Warning: No faces were detected.\n",
      "Warning: No faces were detected.\n",
      "Warning: No faces were detected.\n",
      "Warning: No faces were detected.\n",
      "Warning: No faces were detected.\n",
      "Warning: No faces were detected.\n",
      "Warning: No faces were detected.\n",
      "Warning: No faces were detected.\n",
      "Warning: No faces were detected.\n",
      "Warning: No faces were detected.\n",
      "Warning: No faces were detected.\n",
      "Warning: No faces were detected.\n",
      "Warning: No faces were detected.\n",
      "Warning: No faces were detected.\n",
      "Warning: No faces were detected.\n",
      "Warning: No faces were detected.\n",
      "Warning: No faces were detected.\n",
      "Warning: No faces were detected.\n",
      "Warning: No faces were detected.\n",
      "Warning: No faces were detected.\n",
      "Warning: No faces were detected.\n",
      "Warning: No faces were detected.\n",
      "Warning: No faces were detected.\n",
      "Warning: No faces were detected.\n",
      "Warning: No faces were detected.\n",
      "Warning: No faces were detected.\n",
      "Warning: No faces were detected.\n",
      "Warning: No faces were detected.\n",
      "Warning: No faces were detected.\n",
      "Warning: No faces were detected.\n",
      "Warning: No faces were detected.\n",
      "Warning: No faces were detected.\n",
      "Warning: No faces were detected.\n",
      "Warning: No faces were detected.\n",
      "Warning: No faces were detected.\n",
      "Warning: No faces were detected.\n",
      "Warning: No faces were detected.\n",
      "\n"
     ]
    }
   ],
   "source": [
    "preds_flip = [get_keypoints(\"{}/frame{:04d}.jpg\".format(dir, i), \n",
    "                            flip=True) \n",
    "              for i in tqdm(range(1, 101))]"
   ]
  },
  {
   "cell_type": "code",
   "execution_count": 10,
   "metadata": {},
   "outputs": [],
   "source": [
    "def flip_keypoints(pred):\n",
    "    tmp_pred = np.copy(pred)\n",
    "    a = 17\n",
    "    tmp_pred[:a] = pred[:a][::-1]\n",
    "    \n",
    "    b = a + 10\n",
    "    tmp_pred[a:b] = pred[a:b][::-1]\n",
    "    \n",
    "    b += 4\n",
    "    \n",
    "    a, b = b, b + 5\n",
    "    tmp_pred[a:b] = pred[a:b][::-1]\n",
    "    \n",
    "    a = b\n",
    "    \n",
    "    tmp_pred[a:a+4], \n",
    "    tmp_pred[a+6:a+10] = pred[a+6:a+10][::-1], pred[a:a+4][::-1]\n",
    "    \n",
    "    tmp_pred[a+4:a+6],\n",
    "    tmp_pred[a+10:a+12] = pred[a+10:a+12][::-1], pred[a+4:a+6][::-1]\n",
    "    \n",
    "    a, b = a + 12, b + 19\n",
    "    tmp_pred[a:b] = pred[a:b][::-1]\n",
    "    \n",
    "    a, b = b, b + 5\n",
    "    tmp_pred[a:b] = pred[a:b][::-1]\n",
    "    \n",
    "    a, b = b, b + 5\n",
    "    tmp_pred[a:b] = pred[a:b][::-1]\n",
    "    \n",
    "    a, b = b, b + 3\n",
    "    tmp_pred[a:b] = pred[a:b][::-1]\n",
    "                          \n",
    "    return tmp_pred"
   ]
  },
  {
   "cell_type": "code",
   "execution_count": 20,
   "metadata": {
    "collapsed": true
   },
   "outputs": [
    {
     "ename": "ValueError",
     "evalue": "cannot copy sequence with size 2 to array axis with dimension 4",
     "output_type": "error",
     "traceback": [
      "\u001b[0;31m---------------------------------------------------------------------------\u001b[0m",
      "\u001b[0;31mValueError\u001b[0m                                Traceback (most recent call last)",
      "\u001b[0;32m<ipython-input-20-28937097b26c>\u001b[0m in \u001b[0;36m<module>\u001b[0;34m()\u001b[0m\n\u001b[1;32m      1\u001b[0m \u001b[0;32mfor\u001b[0m \u001b[0mi\u001b[0m \u001b[0;32min\u001b[0m \u001b[0mrange\u001b[0m\u001b[0;34m(\u001b[0m\u001b[0;36m88\u001b[0m\u001b[0;34m)\u001b[0m\u001b[0;34m:\u001b[0m\u001b[0;34m\u001b[0m\u001b[0m\n\u001b[0;32m----> 2\u001b[0;31m     \u001b[0mpreds_flip\u001b[0m\u001b[0;34m[\u001b[0m\u001b[0mi\u001b[0m\u001b[0;34m,\u001b[0m\u001b[0;36m0\u001b[0m\u001b[0;34m]\u001b[0m \u001b[0;34m=\u001b[0m \u001b[0mflip_keypoints\u001b[0m\u001b[0;34m(\u001b[0m\u001b[0mpreds_flip\u001b[0m\u001b[0;34m[\u001b[0m\u001b[0mi\u001b[0m\u001b[0;34m,\u001b[0m\u001b[0;36m0\u001b[0m\u001b[0;34m]\u001b[0m\u001b[0;34m)\u001b[0m\u001b[0;34m\u001b[0m\u001b[0m\n\u001b[0m",
      "\u001b[0;32m<ipython-input-10-517da6be7628>\u001b[0m in \u001b[0;36mflip_keypoints\u001b[0;34m(pred)\u001b[0m\n\u001b[1;32m     15\u001b[0m \u001b[0;34m\u001b[0m\u001b[0m\n\u001b[1;32m     16\u001b[0m     \u001b[0mtmp_pred\u001b[0m\u001b[0;34m[\u001b[0m\u001b[0ma\u001b[0m\u001b[0;34m:\u001b[0m\u001b[0ma\u001b[0m\u001b[0;34m+\u001b[0m\u001b[0;36m4\u001b[0m\u001b[0;34m]\u001b[0m\u001b[0;34m,\u001b[0m\u001b[0;34m\u001b[0m\u001b[0m\n\u001b[0;32m---> 17\u001b[0;31m     \u001b[0mtmp_pred\u001b[0m\u001b[0;34m[\u001b[0m\u001b[0ma\u001b[0m\u001b[0;34m+\u001b[0m\u001b[0;36m6\u001b[0m\u001b[0;34m:\u001b[0m\u001b[0ma\u001b[0m\u001b[0;34m+\u001b[0m\u001b[0;36m10\u001b[0m\u001b[0;34m]\u001b[0m \u001b[0;34m=\u001b[0m \u001b[0mpred\u001b[0m\u001b[0;34m[\u001b[0m\u001b[0ma\u001b[0m\u001b[0;34m+\u001b[0m\u001b[0;36m6\u001b[0m\u001b[0;34m:\u001b[0m\u001b[0ma\u001b[0m\u001b[0;34m+\u001b[0m\u001b[0;36m10\u001b[0m\u001b[0;34m]\u001b[0m\u001b[0;34m[\u001b[0m\u001b[0;34m:\u001b[0m\u001b[0;34m:\u001b[0m\u001b[0;34m-\u001b[0m\u001b[0;36m1\u001b[0m\u001b[0;34m]\u001b[0m\u001b[0;34m,\u001b[0m \u001b[0mpred\u001b[0m\u001b[0;34m[\u001b[0m\u001b[0ma\u001b[0m\u001b[0;34m:\u001b[0m\u001b[0ma\u001b[0m\u001b[0;34m+\u001b[0m\u001b[0;36m4\u001b[0m\u001b[0;34m]\u001b[0m\u001b[0;34m[\u001b[0m\u001b[0;34m:\u001b[0m\u001b[0;34m:\u001b[0m\u001b[0;34m-\u001b[0m\u001b[0;36m1\u001b[0m\u001b[0;34m]\u001b[0m\u001b[0;34m\u001b[0m\u001b[0m\n\u001b[0m\u001b[1;32m     18\u001b[0m \u001b[0;34m\u001b[0m\u001b[0m\n\u001b[1;32m     19\u001b[0m     \u001b[0mtmp_pred\u001b[0m\u001b[0;34m[\u001b[0m\u001b[0ma\u001b[0m\u001b[0;34m+\u001b[0m\u001b[0;36m4\u001b[0m\u001b[0;34m:\u001b[0m\u001b[0ma\u001b[0m\u001b[0;34m+\u001b[0m\u001b[0;36m6\u001b[0m\u001b[0;34m]\u001b[0m\u001b[0;34m,\u001b[0m\u001b[0;34m\u001b[0m\u001b[0m\n",
      "\u001b[0;31mValueError\u001b[0m: cannot copy sequence with size 2 to array axis with dimension 4"
     ]
    }
   ],
   "source": [
    "for i in range(88):\n",
    "    preds_flip[i,0] = flip_keypoints(preds_flip[i,0])"
   ]
  },
  {
   "cell_type": "markdown",
   "metadata": {},
   "source": [
    "#### Average the original and flipped predictions together"
   ]
  },
  {
   "cell_type": "code",
   "execution_count": 157,
   "metadata": {},
   "outputs": [],
   "source": [
    "preds_smooth = (preds[:,0,:,:] + preds_flip[:,0,:,:]) / 2.0"
   ]
  },
  {
   "cell_type": "code",
   "execution_count": 23,
   "metadata": {},
   "outputs": [],
   "source": [
    "preds_smooth = np.array(preds)[:,0,:,:]"
   ]
  },
  {
   "cell_type": "code",
   "execution_count": 26,
   "metadata": {
    "collapsed": true
   },
   "outputs": [
    {
     "ename": "IndexError",
     "evalue": "too many indices for array",
     "output_type": "error",
     "traceback": [
      "\u001b[0;31m---------------------------------------------------------------------------\u001b[0m",
      "\u001b[0;31mIndexError\u001b[0m                                Traceback (most recent call last)",
      "\u001b[0;32m<ipython-input-26-3f1b699855d9>\u001b[0m in \u001b[0;36m<module>\u001b[0;34m()\u001b[0m\n\u001b[0;32m----> 1\u001b[0;31m \u001b[0mpreds_smooth\u001b[0m\u001b[0;34m[\u001b[0m\u001b[0;34m:\u001b[0m\u001b[0;34m,\u001b[0m\u001b[0;36m0\u001b[0m\u001b[0;34m,\u001b[0m\u001b[0;34m:\u001b[0m\u001b[0;34m,\u001b[0m\u001b[0;36m2\u001b[0m\u001b[0;34m]\u001b[0m \u001b[0;34m=\u001b[0m \u001b[0mpreds_smooth\u001b[0m\u001b[0;34m[\u001b[0m\u001b[0;34m:\u001b[0m\u001b[0;34m,\u001b[0m\u001b[0;36m0\u001b[0m\u001b[0;34m,\u001b[0m\u001b[0;34m:\u001b[0m\u001b[0;34m,\u001b[0m\u001b[0;36m2\u001b[0m\u001b[0;34m]\u001b[0m \u001b[0;34m+\u001b[0m \u001b[0;36m100\u001b[0m\u001b[0;34m\u001b[0m\u001b[0m\n\u001b[0m",
      "\u001b[0;31mIndexError\u001b[0m: too many indices for array"
     ]
    }
   ],
   "source": [
    "preds_smooth[:,0,:,2] = preds_smooth[:,0,:,2] + 100"
   ]
  },
  {
   "cell_type": "code",
   "execution_count": 27,
   "metadata": {},
   "outputs": [],
   "source": [
    "preds_smooth[:,:,2] = preds_smooth[:,:,2] + 100"
   ]
  },
  {
   "cell_type": "code",
   "execution_count": 28,
   "metadata": {},
   "outputs": [],
   "source": [
    "np.save('keypoints_preds_smooth', np.array(preds_smooth))"
   ]
  },
  {
   "cell_type": "code",
   "execution_count": 160,
   "metadata": {},
   "outputs": [],
   "source": [
    "for i in range(1, 101):\n",
    "    img = load_img(\"{}/frame{:04d}.jpg\".format(dir, i))\n",
    "    pred = preds_smooth[i - 1]\n",
    "    screenshot([pred], img, \"tron_keyframes_smooth/frame{:04d}.jpg\".format(i))"
   ]
  },
  {
   "cell_type": "code",
   "execution_count": 32,
   "metadata": {},
   "outputs": [
    {
     "name": "stderr",
     "output_type": "stream",
     "text": [
      "/Users/paul/miniconda2/lib/python2.7/site-packages/imageio/core/util.py:78: UserWarning: Lossy conversion from float32 to uint8, range [0, 1]\n",
      "  dtype_str, out_type.__name__))\n"
     ]
    }
   ],
   "source": [
    "for i in range(1, 89):\n",
    "    img = load_img(\"{}/frame{:04d}.jpg\".format(dir, i))\n",
    "    pred = preds_smooth[i - 1]\n",
    "    screenshot([pred], img, \"leia_keyframes_smooth/frame{:04d}.jpg\".format(i))"
   ]
  },
  {
   "cell_type": "code",
   "execution_count": 1,
   "metadata": {},
   "outputs": [
    {
     "data": {
      "image/jpeg": "[encoded data removed]",
      "text/html": [
       "\n",
       "        <iframe\n",
       "            width=\"400\"\n",
       "            height=\"300\"\n",
       "            src=\"https://www.youtube.com/embed/q5jAZuFcqlQ\"\n",
       "            frameborder=\"0\"\n",
       "            allowfullscreen\n",
       "        ></iframe>\n",
       "        "
      ],
      "text/plain": [
       "<IPython.lib.display.YouTubeVideo at 0x10ebb3f10>"
      ]
     },
     "execution_count": 1,
     "metadata": {},
     "output_type": "execute_result"
    }
   ],
   "source": [
    "from IPython.lib.display import YouTubeVideo\n",
    "YouTubeVideo('q5jAZuFcqlQ')"
   ]
  },
  {
   "cell_type": "markdown",
   "metadata": {},
   "source": [
    "Here I do some preperation for the face swap script, I use the same method as above to get keypoints for the face I will swap into the tron video."
   ]
  },
  {
   "cell_type": "code",
   "execution_count": 174,
   "metadata": {},
   "outputs": [
    {
     "data": {
      "text/plain": [
       "(525, 524, 3)"
      ]
     },
     "execution_count": 174,
     "metadata": {},
     "output_type": "execute_result"
    }
   ],
   "source": [
    "img = load_img(\"/Users/paul/Downloads/tron_frames/frame0001.jpg\")\n",
    "img.shape"
   ]
  },
  {
   "cell_type": "code",
   "execution_count": null,
   "metadata": {},
   "outputs": [],
   "source": [
    "pred = get_keypoints(\"joey.jpg\")\n",
    "pred_flip = get_keypoints(\"joey.jpg\", flip=True)\n",
    "pred_flip[0] = flip_keypoints(pred_flip[0])\n",
    "pred_smooth = (pred[0] + pred_flip[0]) / 2.0\n",
    "np.save('joey_keypoints.npy', pred_smooth)"
   ]
  },
  {
   "cell_type": "code",
   "execution_count": 175,
   "metadata": {},
   "outputs": [
    {
     "data": {
      "text/plain": [
       "(639, 639, 3)"
      ]
     },
     "execution_count": 175,
     "metadata": {},
     "output_type": "execute_result"
    }
   ],
   "source": [
    "img = load_img(\"joey.jpg\")\n",
    "img.shape"
   ]
  }
 ],
 "metadata": {
  "kernelspec": {
   "display_name": "Python 2",
   "language": "python",
   "name": "python2"
  },
  "language_info": {
   "codemirror_mode": {
    "name": "ipython",
    "version": 2
   },
   "file_extension": ".py",
   "mimetype": "text/x-python",
   "name": "python",
   "nbconvert_exporter": "python",
   "pygments_lexer": "ipython2",
   "version": "2.7.14"
  }
 },
 "nbformat": 4,
 "nbformat_minor": 2
}
