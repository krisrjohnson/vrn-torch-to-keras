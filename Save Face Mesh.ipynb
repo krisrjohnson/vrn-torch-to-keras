{
 "cells": [
  {
   "cell_type": "markdown",
   "metadata": {},
   "source": [
    "# Saving the face mesh\n",
    "\n",
    "In this script, I generate the output of the Volumetric Regression Network (VRN) found here:\n",
    "https://github.com/AaronJackson/vrn"
   ]
  },
  {
   "cell_type": "code",
   "execution_count": 1,
   "metadata": {},
   "outputs": [
    {
     "name": "stderr",
     "output_type": "stream",
     "text": [
      "Using TensorFlow backend.\n"
     ]
    }
   ],
   "source": [
    "from keras.models import load_model\n",
    "import cv2\n",
    "import visvis as vv\n",
    "import numpy as np\n",
    "from skimage import measure\n",
    "\n",
    "import custom_layers"
   ]
  },
  {
   "cell_type": "markdown",
   "metadata": {},
   "source": [
    "#### Load the model I ported from torch7 to keras."
   ]
  },
  {
   "cell_type": "code",
   "execution_count": 2,
   "metadata": {},
   "outputs": [],
   "source": [
    "custom_objects = {\n",
    "    'Conv': custom_layers.Conv,\n",
    "    'BatchNorm': custom_layers.BatchNorm,\n",
    "    'UpSamplingBilinear': custom_layers.UpSamplingBilinear\n",
    "}\n",
    "model = load_model('vrn-unguided-keras.h5', custom_objects=custom_objects)"
   ]
  },
  {
   "cell_type": "code",
   "execution_count": 3,
   "metadata": {},
   "outputs": [],
   "source": [
    "def load_img(file_name):\n",
    "    img = cv2.imread(file_name)\n",
    "    if \"tron\" in file_name:\n",
    "        img = img[115:640, 763:1287, :]\n",
    "    img = cv2.resize(img, (192, 192))\n",
    "    img = cv2.flip(img, 1)\n",
    "    b,g,r = cv2.split(img)\n",
    "    img = cv2.merge([r,g,b])\n",
    "    img = np.swapaxes(img, 2, 0)\n",
    "    img = np.swapaxes(img, 2, 1)\n",
    "    img = np.array([img])\n",
    "    return img"
   ]
  },
  {
   "cell_type": "markdown",
   "metadata": {},
   "source": [
    "#### Render the mesh and save the frame."
   ]
  },
  {
   "cell_type": "code",
   "execution_count": 4,
   "metadata": {},
   "outputs": [],
   "source": [
    "def screenshot(pred, img, output_file_name, blue=True):\n",
    "    vol = pred[0] * 255\n",
    "    vol = np.swapaxes(vol, 0, 2)\n",
    "\n",
    "    verts, faces, normals, values = measure.marching_cubes_lewiner(vol, 1)\n",
    "        \n",
    "    vv.clf()\n",
    "        \n",
    "    im = img[0]\n",
    "    im = np.swapaxes(im, 0, 1)\n",
    "    im = np.swapaxes(im, 1, 2)\n",
    "    t = vv.imshow(im)\n",
    "    t.interpolate = True\n",
    "    \n",
    "    colormap = None\n",
    "    texture = None\n",
    "    if blue:\n",
    "        colormap = [[.5, .5, 1] for z, y, x in verts]\n",
    "    else:\n",
    "        w = float(im.shape[1])\n",
    "        h = float(im.shape[0])\n",
    "        texture = [[x / w, y / h] for x, y, z in verts]\n",
    "\n",
    "    vvmesh = vv.mesh(verts, \n",
    "                     faces=faces, \n",
    "                     normals=normals, \n",
    "                     values=colormap if blue else texture, texture=im)\n",
    "\n",
    "    a = vv.gca()\n",
    "    a.camera.fov = 0 # orthographic\n",
    "    a.camera.azimuth = 180\n",
    "    a.camera.elevation = 90\n",
    "    a.camera.roll = 0\n",
    "    a.daspect = (1, 1, .5)\n",
    "\n",
    "    if output_file_name is not None:\n",
    "        vv.screenshot(output_file_name, vv.gcf(), sf=2, bg='w')\n",
    "    else:\n",
    "        vv.use().Run()"
   ]
  },
  {
   "cell_type": "markdown",
   "metadata": {},
   "source": [
    "#### Iterate through the video, getting a prediction for each frame."
   ]
  },
  {
   "cell_type": "code",
   "execution_count": null,
   "metadata": {},
   "outputs": [],
   "source": [
    "meshes = []\n",
    "for i in range(1, 101):\n",
    "    img = load_img(\"/Users/paul/Downloads/tron_frames/frame{:04d}.jpg\".format(i))\n",
    "    pred = model.predict(img)\n",
    "    screenshot(pred, img, \"tron_output/frame{:04d}.jpg\".format(i))"
   ]
  },
  {
   "cell_type": "markdown",
   "metadata": {},
   "source": [
    "I'll save the mesh that I will use later in the face swap script."
   ]
  },
  {
   "cell_type": "code",
   "execution_count": 75,
   "metadata": {},
   "outputs": [],
   "source": [
    "img = load_img(\"joey.jpg\")\n",
    "pred = model.predict(img)\n",
    "vol = pred[0] * 255\n",
    "vol = np.swapaxes(vol, 0, 2)\n",
    "verts, faces, normals, values = measure.marching_cubes_lewiner(vol, 1)\n",
    "mesh = np.array((verts, faces, normals, values))\n",
    "np.save('joey_mesh.npy', mesh)"
   ]
  }
 ],
 "metadata": {
  "kernelspec": {
   "display_name": "Python 2",
   "language": "python",
   "name": "python2"
  },
  "language_info": {
   "codemirror_mode": {
    "name": "ipython",
    "version": 2
   },
   "file_extension": ".py",
   "mimetype": "text/x-python",
   "name": "python",
   "nbconvert_exporter": "python",
   "pygments_lexer": "ipython2",
   "version": "2.7.14"
  }
 },
 "nbformat": 4,
 "nbformat_minor": 2
}
